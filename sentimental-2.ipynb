{
 "cells": [
  {
   "cell_type": "code",
   "execution_count": 37,
   "id": "1aa66980-9a05-4e30-ba3b-ee604266552e",
   "metadata": {},
   "outputs": [],
   "source": [
    "import warnings\n",
    "warnings.filterwarnings('ignore')\n",
    "import pandas as pd\n",
    "from collections import Counter\n",
    "import matplotlib.pyplot as plt\n",
    "\n"
   ]
  },
  {
   "cell_type": "code",
   "execution_count": 38,
   "id": "b6099af2-b6b6-43cd-92f7-28ef74a74410",
   "metadata": {},
   "outputs": [],
   "source": [
    "# Read the CSV file into a DataFrame\n",
    "df = pd.read_csv(\"/Users/ongaga/Downloads/7574f919-8134-4816-9c97-794d60df6171.csv\")\n"
   ]
  },
  {
   "cell_type": "code",
   "execution_count": 39,
   "id": "49b50445-3726-4df2-8536-9bd2fbd56bf2",
   "metadata": {},
   "outputs": [],
   "source": [
    "# Define a function to clean and split the strings into lists\n",
    "def clean_and_split(text):\n",
    "    # Remove leading and trailing square brackets\n",
    "    text = text.strip('][')\n",
    "    # Split the string by commas\n",
    "    items = text.split(', ')\n",
    "    # Remove single quotes from each item\n",
    "    items = [item.strip(\"'\") for item in items]\n",
    "    return items\n",
    "\n"
   ]
  },
  {
   "cell_type": "code",
   "execution_count": 40,
   "id": "98befd42-d15f-4bce-8466-a125c7608b1e",
   "metadata": {},
   "outputs": [
    {
     "data": {
      "image/png": "[encoded data removed]",
      "text/plain": [
       "<Figure size 432x288 with 1 Axes>"
      ]
     },
     "metadata": {
      "needs_background": "light"
     },
     "output_type": "display_data"
    }
   ],
   "source": [
    "# Apply the function to the 'key_phrases' column\n",
    "df['key_phrases'] = df['key_phrases'].apply(clean_and_split)\n",
    "\n",
    "# Flatten the lists in the 'key_phrases' column\n",
    "all_key_phrases = [phrase for sublist in df['key_phrases'] for phrase in sublist]\n",
    "\n",
    "# Count the occurrences of each sentiment word\n",
    "word_counts = pd.Series(Counter(all_key_phrases))\n",
    "\n",
    "# Drop 'RT' and 'Apple' from the sentiment words\n",
    "word_counts = word_counts.drop([\"RT\", \"Apple\"])\n",
    "\n",
    "# Select the top 10 sentiment words\n",
    "top_10_words = word_counts.nlargest(10)\n",
    "\n",
    "# Plot the bar graph for top 10 sentiment words\n",
    "top_10_words.plot(kind='bar')\n",
    "plt.xlabel('Sentiment Words')\n",
    "plt.ylabel('Count')\n",
    "plt.title('Top 10 Sentiment Words')\n",
    "#plt.style(\"fivethirtyeight\")\n",
    "plt.show()\n",
    "\n"
   ]
  },
  {
   "cell_type": "code",
   "execution_count": null,
   "id": "d4dbe088-ac1f-4306-8ec0-4d8c74e1b57b",
   "metadata": {},
   "outputs": [],
   "source": []
  },
  {
   "cell_type": "code",
   "execution_count": null,
   "id": "947a841a-a301-418e-bc44-babe47849796",
   "metadata": {},
   "outputs": [],
   "source": []
  },
  {
   "cell_type": "code",
   "execution_count": null,
   "id": "c40c2e7d-63aa-4c8c-ae24-96b1a32b55d3",
   "metadata": {},
   "outputs": [],
   "source": []
  },
  {
   "cell_type": "code",
   "execution_count": 83,
   "id": "62d01192-46c1-4af5-a4a0-5dfc27109ab4",
   "metadata": {},
   "outputs": [],
   "source": []
  },
  {
   "cell_type": "code",
   "execution_count": null,
   "id": "21141f39-b351-49e7-8008-71ab6acdbd25",
   "metadata": {},
   "outputs": [],
   "source": []
  },
  {
   "cell_type": "code",
   "execution_count": null,
   "id": "e7097e39-b557-406d-ab9d-ff40e27598a0",
   "metadata": {},
   "outputs": [],
   "source": []
  },
  {
   "cell_type": "code",
   "execution_count": null,
   "id": "e984a4bd-9598-4468-8f46-6d3a3553def8",
   "metadata": {},
   "outputs": [],
   "source": []
  },
  {
   "cell_type": "code",
   "execution_count": null,
   "id": "70a34312-a30f-49f0-b428-fe7e0f4847c1",
   "metadata": {},
   "outputs": [],
   "source": []
  },
  {
   "cell_type": "code",
   "execution_count": null,
   "id": "bee1bffe-8a11-43f7-8882-bb0e620bd76e",
   "metadata": {},
   "outputs": [],
   "source": []
  },
  {
   "cell_type": "code",
   "execution_count": null,
   "id": "f95fac3a-744a-4376-af40-2ede9782ad54",
   "metadata": {},
   "outputs": [],
   "source": []
  }
 ],
 "metadata": {
  "kernelspec": {
   "display_name": "Python 3 (ipykernel)",
   "language": "python",
   "name": "python3"
  },
  "language_info": {
   "codemirror_mode": {
    "name": "ipython",
    "version": 3
   },
   "file_extension": ".py",
   "mimetype": "text/x-python",
   "name": "python",
   "nbconvert_exporter": "python",
   "pygments_lexer": "ipython3",
   "version": "3.9.7"
  }
 },
 "nbformat": 4,
 "nbformat_minor": 5
}
